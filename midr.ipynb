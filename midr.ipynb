{
 "cells": [
  {
   "cell_type": "markdown",
   "id": "84381b27",
   "metadata": {},
   "source": [
    "## Musically Informed Data Representations for AMT\n",
    "\n",
    "This notebook allows for easy installation and execution of the MIDR models.\n",
    "\n",
    "TBI"
   ]
  }
 ],
 "metadata": {
  "language_info": {
   "name": "python"
  }
 },
 "nbformat": 4,
 "nbformat_minor": 5
}
